{
 "cells": [
  {
   "cell_type": "code",
   "execution_count": 324,
   "metadata": {
    "collapsed": true
   },
   "outputs": [],
   "source": [
    "import numpy as np\n",
    "import scipy.integrate as integrate\n",
    "import matplotlib.pyplot as plt\n",
    "%matplotlib inline"
   ]
  },
  {
   "cell_type": "code",
   "execution_count": 375,
   "metadata": {
    "collapsed": false
   },
   "outputs": [],
   "source": [
    "def potential(phi,mass2,vev):\n",
    "    lmda4 = np.abs(mass2)/4.0/vev**2\n",
    "    return np.sum(lmda4*(phi**2-vev**2)**2)\n",
    "\n",
    "def dVdphi(phi,mass2,vev):\n",
    "    lmda4 = np.abs(mass2)/4.0/vev**2\n",
    "    return 4.0*lmda4*(phi**2-vev**2)*phi\n",
    "\n",
    "def epsilon(dphidN):\n",
    "    return 0.5*np.sum(np.array(dphidN)**2)\n",
    "\n",
    "def slowrollEoM(phi,t0,mass2,vev):\n",
    "    hubble2 = potential(phi,mass2,vev)/3.0\n",
    "    \n",
    "    return -dVdphi(phi,mass2,vev)/3.0/hubble2\n",
    "\n",
    "nfields=500\n",
    "mass2 = np.linspace(1e-10,1e-9,nfields)\n",
    "vevs = np.random.uniform(0.1,1.00,nfields)\n",
    "phi0 = np.random.uniform(0.0,1.0e-10,nfields)\n",
    "\n",
    "vparams = (mass2,vevs)\n"
   ]
  },
  {
   "cell_type": "code",
   "execution_count": 376,
   "metadata": {
    "collapsed": false
   },
   "outputs": [],
   "source": [
    "tsteps = np.linspace(0,1000,10000)  \n",
    "\n",
    "traj = integrate.odeint(slowrollEoM,phi0,tsteps,args=vparams,tcrit=[0.0],rtol=1e-6,atol=1e-70)\n",
    "\n",
    "trajEps=[]\n",
    "for phi in traj:\n",
    "    trajEps.append(epsilon(slowrollEoM(phi,0.0,mass2,vevs)))\n",
    "trajEps = np.array(trajEps)"
   ]
  },
  {
   "cell_type": "code",
   "execution_count": 377,
   "metadata": {
    "collapsed": false
   },
   "outputs": [
    {
     "name": "stdout",
     "output_type": "stream",
     "text": [
      "[427 196 207  89 311]\n"
     ]
    },
    {
     "data": {
      "image/png": "[encoded data removed]",
      "text/plain": [
       "<matplotlib.figure.Figure at 0x13bc8bc90>"
      ]
     },
     "metadata": {},
     "output_type": "display_data"
    }
   ],
   "source": [
    "#traj = np.log10(traj)\n",
    "\n",
    "nSR = np.argmin(trajEps<0.9)\n",
    "if nSR==0: nSR=len(trajEps)\n",
    "plotTraj = traj[0:nSR]\n",
    "\n",
    "plotTime = tsteps[0:nSR]\n",
    "\n",
    "testPlot = np.random.choice(xrange(0,nfields),5)\n",
    "\n",
    "print testPlot\n",
    "\n",
    "for plotter in testPlot:\n",
    "    #plt.plot(plotTime,np.log10(plotTraj[:,plotter]))\n",
    "    plt.plot(plotTime,(plotTraj[:,plotter]))\n",
    "\n"
   ]
  },
  {
   "cell_type": "code",
   "execution_count": 374,
   "metadata": {
    "collapsed": false
   },
   "outputs": [
    {
     "data": {
      "text/plain": [
       "[<matplotlib.lines.Line2D at 0x12ac79990>]"
      ]
     },
     "execution_count": 374,
     "metadata": {},
     "output_type": "execute_result"
    },
    {
     "data": {
      "image/png": "[encoded data removed]",
      "text/plain": [
       "<matplotlib.figure.Figure at 0x13c2908d0>"
      ]
     },
     "metadata": {},
     "output_type": "display_data"
    }
   ],
   "source": [
    "plt.plot(plotTime,trajEps[0:nSR])"
   ]
  },
  {
   "cell_type": "code",
   "execution_count": 370,
   "metadata": {
    "collapsed": true
   },
   "outputs": [],
   "source": [
    "integrate.odeint?"
   ]
  },
  {
   "cell_type": "code",
   "execution_count": null,
   "metadata": {
    "collapsed": true
   },
   "outputs": [],
   "source": []
  }
 ],
 "metadata": {
  "kernelspec": {
   "display_name": "Python 2",
   "language": "python",
   "name": "python2"
  },
  "language_info": {
   "codemirror_mode": {
    "name": "ipython",
    "version": 2
   },
   "file_extension": ".py",
   "mimetype": "text/x-python",
   "name": "python",
   "nbconvert_exporter": "python",
   "pygments_lexer": "ipython2",
   "version": "2.7.12"
  }
 },
 "nbformat": 4,
 "nbformat_minor": 0
}
